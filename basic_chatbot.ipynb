{
 "cells": [
  {
   "cell_type": "code",
   "execution_count": 1,
   "id": "8404d730",
   "metadata": {},
   "outputs": [
    {
     "data": {
      "text/plain": [
       "True"
      ]
     },
     "execution_count": 1,
     "metadata": {},
     "output_type": "execute_result"
    }
   ],
   "source": [
    "from langgraph.graph import StateGraph, START, END\n",
    "from typing import TypedDict, Annotated\n",
    "from langchain_openai import ChatOpenAI\n",
    "from langchain_core.messages import BaseMessage, SystemMessage, HumanMessage, AIMessage\n",
    "# for add all messages to state\n",
    "from langgraph.graph.message import add_messages\n",
    "# for memory saver (local ram)\n",
    "from langgraph.checkpoint.memory import MemorySaver\n",
    "from dotenv import load_dotenv\n",
    "load_dotenv()"
   ]
  },
  {
   "cell_type": "code",
   "execution_count": null,
   "id": "83d17603",
   "metadata": {},
   "outputs": [],
   "source": [
    "llm = ChatOpenAI(model=\"gpt-4o-mini\", api_key=\"\")\n",
    "# define state\n",
    "class ChatState(TypedDict):\n",
    "    messages: Annotated[list[BaseMessage], add_messages]"
   ]
  },
  {
   "cell_type": "code",
   "execution_count": 3,
   "id": "a32e2e58",
   "metadata": {},
   "outputs": [],
   "source": [
    "# define functions\n",
    "def chat_node(state: ChatState):\n",
    "    all_messages = state['messages']\n",
    "    llm_response = llm.invoke(all_messages)\n",
    "    return {'messages': [llm_response]}"
   ]
  },
  {
   "cell_type": "code",
   "execution_count": 4,
   "id": "ed585ea7",
   "metadata": {},
   "outputs": [
    {
     "data": {
      "text/plain": [
       "<langgraph.graph.state.StateGraph at 0x22993e58ec0>"
      ]
     },
     "execution_count": 4,
     "metadata": {},
     "output_type": "execute_result"
    }
   ],
   "source": [
    "# define memory\n",
    "check_pointer = MemorySaver()\n",
    "\n",
    "# define state\n",
    "graph = StateGraph(ChatState)\n",
    "graph.add_node(\"chat_node\", chat_node)\n",
    "graph.add_edge(START, \"chat_node\")\n",
    "graph.add_edge(\"chat_node\", END)"
   ]
  },
  {
   "cell_type": "code",
   "execution_count": 5,
   "id": "ce52e97a",
   "metadata": {},
   "outputs": [
    {
     "data": {
      "image/png": "[encoded data removed]",
      "text/plain": [
       "<langgraph.graph.state.CompiledStateGraph object at 0x0000022993E59010>"
      ]
     },
     "execution_count": 5,
     "metadata": {},
     "output_type": "execute_result"
    }
   ],
   "source": [
    "chatbot = graph.compile(checkpointer=check_pointer)\n",
    "chatbot"
   ]
  },
  {
   "cell_type": "code",
   "execution_count": 6,
   "id": "fcf4237c",
   "metadata": {},
   "outputs": [],
   "source": [
    "# check llm with a state\n",
    "# initial_state = {'messages': [SystemMessage(content=\"You are a chatbot.\"), \n",
    "#                               HumanMessage(content=\"Hello my name is pranto.\")]}\n",
    "# chatbot.invoke(initial_state)"
   ]
  },
  {
   "cell_type": "code",
   "execution_count": null,
   "id": "80a280c5",
   "metadata": {},
   "outputs": [
    {
     "name": "stdout",
     "output_type": "stream",
     "text": [
      "User: hi my name is pranto\n",
      "Chatbot: Hi Pranto! How can I assist you today?\n",
      "User: q\n"
     ]
    }
   ],
   "source": [
    "thread_id = \"1\"\n",
    "\n",
    "config = {'configurable': {\"thread_id\": thread_id}}\n",
    "\n",
    "# make the loop for the chatbot\n",
    "while True:\n",
    "    user_input = input(\"User: \")\n",
    "    print(\"User: \" + user_input)\n",
    "    if user_input.strip().lower() in [\"exit\", \"quit\", \"bye\", \"stop\", \"end\", \"q\"]:\n",
    "        break\n",
    "    initial_state = {'messages': [SystemMessage(content=\"You are a helpful chatbot.\"),\n",
    "                                  HumanMessage(content=user_input)]}\n",
    "    response = chatbot.invoke(initial_state, config=config)\n",
    "    print(\"Chatbot: \" + response['messages'][-1].content)"
   ]
  }
 ],
 "metadata": {
  "kernelspec": {
   "display_name": ".venv",
   "language": "python",
   "name": "python3"
  },
  "language_info": {
   "codemirror_mode": {
    "name": "ipython",
    "version": 3
   },
   "file_extension": ".py",
   "mimetype": "text/x-python",
   "name": "python",
   "nbconvert_exporter": "python",
   "pygments_lexer": "ipython3",
   "version": "3.13.1"
  }
 },
 "nbformat": 4,
 "nbformat_minor": 5
}
