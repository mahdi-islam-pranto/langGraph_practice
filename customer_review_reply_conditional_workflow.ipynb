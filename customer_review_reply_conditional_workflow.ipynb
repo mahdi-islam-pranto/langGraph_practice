{
 "cells": [
  {
   "cell_type": "code",
   "execution_count": 26,
   "id": "ef7e017a",
   "metadata": {},
   "outputs": [
    {
     "data": {
      "text/plain": [
       "True"
      ]
     },
     "execution_count": 26,
     "metadata": {},
     "output_type": "execute_result"
    }
   ],
   "source": [
    "from langchain_openai import ChatOpenAI\n",
    "from langgraph.graph import StateGraph, START, END\n",
    "from typing import TypedDict, Literal\n",
    "from pydantic import BaseModel, Field\n",
    "from dotenv import load_dotenv\n",
    "load_dotenv()"
   ]
  },
  {
   "cell_type": "code",
   "execution_count": 35,
   "id": "151dbf45",
   "metadata": {},
   "outputs": [
    {
     "name": "stderr",
     "output_type": "stream",
     "text": [
      "d:\\hobby projects\\python\\langGraph_practice\\.venv\\Lib\\site-packages\\langchain_openai\\chat_models\\base.py:1928: UserWarning: Cannot use method='json_schema' with model gpt-3.5-turbo since it doesn't support OpenAI's Structured Output API. You can see supported models here: https://platform.openai.com/docs/guides/structured-outputs#supported-models. To fix this warning, set `method='function_calling'. Overriding to method='function_calling'.\n",
      "  warnings.warn(\n"
     ]
    }
   ],
   "source": [
    "# define my llm \n",
    "llm_model = ChatOpenAI(model=\"gpt-3.5-turbo\")\n",
    "\n",
    "# sentiment output schema for llm\n",
    "class SentimentSchema(BaseModel):\n",
    "    sentiment : Literal[\"positive\", \"negative\"] = Field(description=\"The sentiment of the review\")\n",
    "\n",
    "# diagnosis output schema for llm\n",
    "class ReviewDiagnosisSchema(BaseModel):\n",
    "    issue_type: Literal[\"UX\", \"Performance\", \"Bug\", \"Support\", \"Other\"] = Field(description='The category of issue mentioned in the review')\n",
    "    tone: Literal[\"angry\", \"frustrated\", \"disappointed\", \"calm\"] = Field(description='The emotional tone expressed by the user')\n",
    "    urgency: Literal[\"low\", \"medium\", \"high\"] = Field(description='How urgent or critical the issue appears to be')\n",
    "\n",
    "structured_llm = llm_model.with_structured_output(SentimentSchema)\n",
    "structured_llm2 = llm_model.with_structured_output(ReviewDiagnosisSchema)"
   ]
  },
  {
   "cell_type": "code",
   "execution_count": 36,
   "id": "69352889",
   "metadata": {},
   "outputs": [],
   "source": [
    "# define state class\n",
    "class ReviewState(TypedDict):\n",
    "    review: str\n",
    "    sentiment: Literal[\"positive\", \"negative\"]\n",
    "    review_diagnosis: dict\n",
    "    response: str"
   ]
  },
  {
   "cell_type": "code",
   "execution_count": 37,
   "id": "2947ee4d",
   "metadata": {},
   "outputs": [],
   "source": [
    "# define node functions\n",
    "def sentiment_analysis(state: ReviewState):\n",
    "    user_review = state['review']\n",
    "    prompt = f\"Find the sentiment of the following review: {user_review}\"\n",
    "    review_sentiment = structured_llm.invoke(prompt).sentiment\n",
    "    \n",
    "    return {'sentiment' : review_sentiment}\n",
    "\n",
    "def positive_response(state: ReviewState):\n",
    "    sentiment = state['sentiment']\n",
    "    response = llm_model.invoke(\"write a thank you message to the user as this review sentiment is {sentiment} and say kindly to stay with us\")\n",
    "    return {\"response\": response}\n",
    "\n",
    "def review_diagnosis(state: ReviewState):\n",
    "    prompt = f\"\"\"Diagnose this {state['sentiment']} sentiment review:\\n\\n{state['review']}\\n\"\n",
    "    \"Return issue_type, tone, and urgency.\n",
    "\"\"\"\n",
    "    response = structured_llm2.invoke(prompt)\n",
    "    return {\"review_diagnosis\" : response.model_dump()}\n",
    "\n",
    "def negative_response(state: ReviewState):\n",
    "    diagnosis = state['review_diagnosis']\n",
    "    prompt = f\"\"\"You are a support assistant.\n",
    "The user had a '{diagnosis['issue_type']}' issue, sounded '{diagnosis['tone']}', and marked urgency as '{diagnosis['urgency']}'.\n",
    "Write an empathetic, helpful resolution message.\n",
    "\"\"\"\n",
    "    response = llm_model.invoke(prompt)\n",
    "    return {\"response\": response}\n",
    "\n",
    "# define conditional function\n",
    "def choose_response(state: ReviewState) -> Literal[\"positive_response\", \"review_diagnosis\"]:\n",
    "    if state['sentiment'] == \"positive\":\n",
    "        return \"positive_response\"\n",
    "    else:\n",
    "        return \"review_diagnosis\"\n"
   ]
  },
  {
   "cell_type": "code",
   "execution_count": 38,
   "id": "197fce9f",
   "metadata": {},
   "outputs": [
    {
     "data": {
      "text/plain": [
       "<langgraph.graph.state.StateGraph at 0x1b9d142eea0>"
      ]
     },
     "execution_count": 38,
     "metadata": {},
     "output_type": "execute_result"
    }
   ],
   "source": [
    "# define nodes\n",
    "graph = StateGraph(ReviewState)\n",
    "graph.add_node(\"sentiment_analysis\", sentiment_analysis)\n",
    "graph.add_node(\"positive_response\", positive_response)\n",
    "graph.add_node(\"review_diagnosis\", review_diagnosis)\n",
    "graph.add_node(\"negative_response\", negative_response)\n",
    "\n",
    "# define edges\n",
    "graph.add_edge(START, \"sentiment_analysis\")\n",
    "graph.add_conditional_edges(\"sentiment_analysis\", choose_response)\n",
    "graph.add_edge(\"positive_response\", END)\n",
    "graph.add_edge(\"review_diagnosis\", \"negative_response\")\n",
    "graph.add_edge(\"negative_response\", END)"
   ]
  },
  {
   "cell_type": "code",
   "execution_count": 39,
   "id": "63edbedd",
   "metadata": {},
   "outputs": [
    {
     "data": {
      "image/png": "[encoded data removed]",
      "text/plain": [
       "<langgraph.graph.state.CompiledStateGraph object at 0x000001B9D15BF4D0>"
      ]
     },
     "execution_count": 39,
     "metadata": {},
     "output_type": "execute_result"
    }
   ],
   "source": [
    "# make the workflow\n",
    "workflow = graph.compile()\n",
    "workflow"
   ]
  },
  {
   "cell_type": "code",
   "execution_count": 41,
   "id": "dc2783f3",
   "metadata": {},
   "outputs": [
    {
     "data": {
      "text/plain": [
       "{'review': 'I’ve been trying to log in for over an hour now, and the app keeps freezing on the authentication screen. I even tried reinstalling it, but no luck. This kind of bug is unacceptable, especially when it affects basic functionality.',\n",
       " 'sentiment': 'negative',\n",
       " 'review_diagnosis': {'issue_type': 'Bug',\n",
       "  'tone': 'frustrated',\n",
       "  'urgency': 'high'},\n",
       " 'response': AIMessage(content=\"I'm so sorry to hear that you're experiencing a bug issue and feeling frustrated. I completely understand how that can be incredibly frustrating. \\n\\nPlease know that I am here to help and will do everything I can to resolve this issue for you as quickly as possible. Can you please provide me with more details about the bug you're encountering so that I can better assist you? \\n\\nYour urgency has been noted as high, and I will prioritize this issue accordingly. Thank you for bringing it to my attention, and I will work to resolve it as soon as possible. \\n\\nHang in there, and thank you for your patience!\", additional_kwargs={'refusal': None}, response_metadata={'token_usage': {'completion_tokens': 125, 'prompt_tokens': 44, 'total_tokens': 169, 'completion_tokens_details': {'accepted_prediction_tokens': 0, 'audio_tokens': 0, 'reasoning_tokens': 0, 'rejected_prediction_tokens': 0}, 'prompt_tokens_details': {'audio_tokens': 0, 'cached_tokens': 0}}, 'model_name': 'gpt-3.5-turbo-0125', 'system_fingerprint': None, 'id': 'chatcmpl-CLQoHtC9rY9j99N9adK7qsIyLY0gc', 'service_tier': 'default', 'finish_reason': 'stop', 'logprobs': None}, id='run--dedf703b-7646-4c81-84a1-330fb596fc79-0', usage_metadata={'input_tokens': 44, 'output_tokens': 125, 'total_tokens': 169, 'input_token_details': {'audio': 0, 'cache_read': 0}, 'output_token_details': {'audio': 0, 'reasoning': 0}})}"
      ]
     },
     "execution_count": 41,
     "metadata": {},
     "output_type": "execute_result"
    }
   ],
   "source": [
    "initial_state1 = {\"review\": \"I had a great experience with your Software. It is incredibly user-friendly and intuitive. The UI stood out to me and has made my [work/life] so much easier. Highly recommended!\"}\n",
    "initial_state2 = {\"review\": \"I’ve been trying to log in for over an hour now, and the app keeps freezing on the authentication screen. I even tried reinstalling it, but no luck. This kind of bug is unacceptable, especially when it affects basic functionality.\"}\n",
    "workflow.invoke(initial_state2)"
   ]
  }
 ],
 "metadata": {
  "kernelspec": {
   "display_name": ".venv",
   "language": "python",
   "name": "python3"
  },
  "language_info": {
   "codemirror_mode": {
    "name": "ipython",
    "version": 3
   },
   "file_extension": ".py",
   "mimetype": "text/x-python",
   "name": "python",
   "nbconvert_exporter": "python",
   "pygments_lexer": "ipython3",
   "version": "3.13.1"
  }
 },
 "nbformat": 4,
 "nbformat_minor": 5
}
